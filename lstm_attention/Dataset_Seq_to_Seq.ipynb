{
  "cells": [
    {
      "cell_type": "markdown",
      "metadata": {
        "id": "view-in-github",
        "colab_type": "text"
      },
      "source": [
        "<a href=\"https://colab.research.google.com/github/bhaghighi/AG-CNN/blob/master/lstm_attention/Dataset_Seq_to_Seq.ipynb\" target=\"_parent\"><img src=\"https://colab.research.google.com/assets/colab-badge.svg\" alt=\"Open In Colab\"/></a>"
      ]
    },
    {
      "cell_type": "code",
      "execution_count": null,
      "metadata": {
        "id": "AUMu3iL9F2yp",
        "colab": {
          "base_uri": "https://localhost:8080/"
        },
        "outputId": "674fa423-de0a-4715-cc90-2a96d9ead0c4"
      },
      "outputs": [
        {
          "output_type": "stream",
          "name": "stdout",
          "text": [
            "Drive already mounted at /content/drive; to attempt to forcibly remount, call drive.mount(\"/content/drive\", force_remount=True).\n"
          ]
        }
      ],
      "source": [
        "#\n",
        "# got the data set from this link\n",
        "import numpy as np\n",
        "import os\n",
        "import torch\n",
        "import torch.nn as nn\n",
        "import torch.nn.functional as F\n",
        "from torch import optim\n",
        "\n",
        "from __future__ import unicode_literals, print_function, division\n",
        "from io import open\n",
        "import unicodedata\n",
        "import re\n",
        "import random\n",
        "\n",
        "import numpy as np\n",
        "from torch.utils.data import TensorDataset, DataLoader, RandomSampler\n",
        "device = torch.device(\"cuda\" if torch.cuda.is_available() else \"cpu\")\n",
        "\n",
        "from google.colab import drive\n",
        "#drive.mount(\"/content/drive\")\n",
        "#os.chdir(r\"/content/drive/My Drive/Colab Notebooks/Time-series-modeling\")"
      ]
    },
    {
      "cell_type": "code",
      "source": [
        "'''order of functin in the class does not matter. becasue when is running\n",
        "all of functions are availabe in the instances. it is better to put\n",
        "high level function first so that developer can understand the high level'''\n",
        "\n",
        "SOS_token = 0\n",
        "EOS_token = 1\n",
        "\n",
        "class Lang:\n",
        "    def __init__(self, name):\n",
        "        self.name = name\n",
        "        self.word2index = {}\n",
        "        self.word2count = {}\n",
        "        self.index2word = {0: \"SOS\", 1: \"EOS\"}\n",
        "        self.n_words = 2  # Count SOS and EOS\n",
        "\n",
        "    def addSentence(self, sentence):\n",
        "        for word in sentence.split(' '):\n",
        "            self.addWord(word)\n",
        "\n",
        "    def addWord(self, word):\n",
        "        if word not in self.word2index:\n",
        "            self.word2index[word] = self.n_words\n",
        "            self.word2count[word] = 1\n",
        "            self.index2word[self.n_words] = word\n",
        "            self.n_words += 1\n",
        "        else:\n",
        "            self.word2count[word] += 1\n",
        "\n",
        "# Turn a Unicode string to plain ASCII, thanks to\n",
        "# https://stackoverflow.com/a/518232/2809427\n",
        "def unicodeToAscii(s):\n",
        "    return ''.join(\n",
        "        c for c in unicodedata.normalize('NFD', s)\n",
        "        if unicodedata.category(c) != 'Mn'\n",
        "    )\n",
        "\n",
        "# Lowercase, trim, and remove non-letter characters\n",
        "def normalizeString(s):\n",
        "    s = unicodeToAscii(s.lower().strip())\n",
        "    s = re.sub(r\"([.!?])\", r\" \\1\", s)\n",
        "    s = re.sub(r\"[^a-zA-Z!?]+\", r\" \", s)\n",
        "    return s.strip()\n",
        "\n",
        "def readLangs(lang1, lang2, reverse=False):\n",
        "    print(\"Reading lines...\")\n",
        "\n",
        "    # Read the file and split into lines\n",
        "    lines = open('data/%s-%s.txt' % (lang1, lang2), encoding='utf-8').\\\n",
        "        read().strip().split('\\n')\n",
        "\n",
        "    # Split every line into pairs and normalize\n",
        "    pairs = [[normalizeString(s) for s in l.split('\\t')] for l in lines]\n",
        "\n",
        "    # Reverse pairs, make Lang instances\n",
        "    if reverse:\n",
        "        pairs = [list(reversed(p)) for p in pairs]\n",
        "        input_lang = Lang(lang2)\n",
        "        output_lang = Lang(lang1)\n",
        "    else:\n",
        "        input_lang = Lang(lang1)\n",
        "        output_lang = Lang(lang2)\n",
        "\n",
        "    return input_lang, output_lang, pairs\n",
        "\n",
        "MAX_LENGTH = 10\n",
        "\n",
        "eng_prefixes = (\n",
        "    \"i am \", \"i m \",\n",
        "    \"he is\", \"he s \",\n",
        "    \"she is\", \"she s \",\n",
        "    \"you are\", \"you re \",\n",
        "    \"we are\", \"we re \",\n",
        "    \"they are\", \"they re \"\n",
        ")\n",
        "\n",
        "def filterPair(p):\n",
        "    return len(p[0].split(' ')) < MAX_LENGTH and \\\n",
        "        len(p[1].split(' ')) < MAX_LENGTH and \\\n",
        "        p[1].startswith(eng_prefixes)\n",
        "\n",
        "\n",
        "def filterPairs(pairs):\n",
        "    return [pair for pair in pairs if filterPair(pair)]\n",
        "\n",
        "\n",
        "def prepareData(lang1, lang2, reverse=False):\n",
        "    input_lang, output_lang, pairs = readLangs(lang1, lang2, reverse)\n",
        "    print(\"Read %s sentence pairs\" % len(pairs))\n",
        "    pairs = filterPairs(pairs)\n",
        "    print(\"Trimmed to %s sentence pairs\" % len(pairs))\n",
        "    print(\"Counting words...\")\n",
        "    for pair in pairs:\n",
        "        input_lang.addSentence(pair[0])\n",
        "        output_lang.addSentence(pair[1])\n",
        "    print(\"Counted words:\")\n",
        "    print(input_lang.name, input_lang.n_words)\n",
        "    print(output_lang.name, output_lang.n_words)\n",
        "    return input_lang, output_lang, pairs\n",
        "\n",
        "input_lang, output_lang, pairs = prepareData('eng', 'fra', True)\n",
        "print(random.choice(pairs))\n"
      ],
      "metadata": {
        "id": "F7i6PPGycUYg",
        "colab": {
          "base_uri": "https://localhost:8080/"
        },
        "outputId": "d55bb692-6a6f-4446-f50e-e383e72f9aae"
      },
      "execution_count": null,
      "outputs": [
        {
          "output_type": "stream",
          "name": "stdout",
          "text": [
            "Reading lines...\n",
            "Read 135842 sentence pairs\n",
            "Trimmed to 11445 sentence pairs\n",
            "Counting words...\n",
            "Counted words:\n",
            "fra 4601\n",
            "eng 2991\n",
            "['il est petit et gros', 'he s short and fat']\n"
          ]
        }
      ]
    },
    {
      "cell_type": "code",
      "source": [
        "pairs[:100]"
      ],
      "metadata": {
        "id": "1hQJgJYvMkRR",
        "colab": {
          "base_uri": "https://localhost:8080/"
        },
        "outputId": "ea7e1737-dab6-4fa3-9294-25783679cc17"
      },
      "execution_count": null,
      "outputs": [
        {
          "output_type": "execute_result",
          "data": {
            "text/plain": [
              "[['je vais bien', 'i m ok'],\n",
              " ['ca va', 'i m ok'],\n",
              " ['je suis gras', 'i m fat'],\n",
              " ['je suis gros', 'i m fat'],\n",
              " ['je suis en forme', 'i m fit'],\n",
              " ['je suis touche !', 'i m hit !'],\n",
              " ['je suis touchee !', 'i m hit !'],\n",
              " ['je suis malade', 'i m ill'],\n",
              " ['je suis triste', 'i m sad'],\n",
              " ['je suis timide', 'i m shy'],\n",
              " ['je suis mouille', 'i m wet'],\n",
              " ['je suis mouillee', 'i m wet'],\n",
              " ['il est mouille', 'he s wet'],\n",
              " ['je suis gras', 'i am fat'],\n",
              " ['je suis revenu', 'i m back'],\n",
              " ['me revoila', 'i m back'],\n",
              " ['je suis chauve', 'i m bald'],\n",
              " ['je suis occupe', 'i m busy'],\n",
              " ['je suis occupee', 'i m busy'],\n",
              " ['je suis calme', 'i m calm'],\n",
              " ['j ai froid', 'i m cold'],\n",
              " ['j en ai fini', 'i m done'],\n",
              " ['tout va bien', 'i m fine'],\n",
              " ['je vais bien', 'i m fine'],\n",
              " ['ca va', 'i m fine'],\n",
              " ['je suis libre !', 'i m free !'],\n",
              " ['je suis libre', 'i m free'],\n",
              " ['je suis disponible', 'i m free'],\n",
              " ['je suis repu !', 'i m full'],\n",
              " ['je suis rassasie !', 'i m full'],\n",
              " ['je suis content', 'i m glad'],\n",
              " ['je suis chez moi', 'i m home'],\n",
              " ['je suis en retard', 'i m late'],\n",
              " ['je suis paresseux', 'i m lazy'],\n",
              " ['je suis faineant', 'i m lazy'],\n",
              " ['je suis paresseuse', 'i m lazy'],\n",
              " ['je suis faineante', 'i m lazy'],\n",
              " ['je vais bien', 'i m okay'],\n",
              " ['je me porte bien', 'i m okay'],\n",
              " ['je suis en securite', 'i m safe'],\n",
              " ['je suis malade', 'i m sick'],\n",
              " ['j en suis certain', 'i m sure'],\n",
              " ['je suis certain', 'i m sure'],\n",
              " ['j en suis sur', 'i m sure'],\n",
              " ['j en suis sure', 'i m sure'],\n",
              " ['je suis grande', 'i m tall'],\n",
              " ['je suis mince', 'i m thin'],\n",
              " ['je suis ordonne', 'i m tidy'],\n",
              " ['je suis ordonnee', 'i m tidy'],\n",
              " ['je suis laid', 'i m ugly'],\n",
              " ['je suis laide', 'i m ugly'],\n",
              " ['je suis faible', 'i m weak'],\n",
              " ['je vais bien', 'i m well'],\n",
              " ['je me porte bien', 'i m well'],\n",
              " ['il est malade', 'he is ill'],\n",
              " ['il est vieux', 'he is old'],\n",
              " ['il est dj', 'he s a dj'],\n",
              " ['il est bon', 'he s good'],\n",
              " ['il est paresseux', 'he s lazy'],\n",
              " ['il est riche', 'he s rich'],\n",
              " ['je suis occupe', 'i am busy'],\n",
              " ['je suis calme', 'i am calm'],\n",
              " ['j ai froid', 'i am cold'],\n",
              " ['je suis bon', 'i am good'],\n",
              " ['je suis ici', 'i am here'],\n",
              " ['je suis paresseux', 'i am lazy'],\n",
              " ['je suis faineant', 'i am lazy'],\n",
              " ['je suis paresseuse', 'i am lazy'],\n",
              " ['je suis faineante', 'i am lazy'],\n",
              " ['je vais bien', 'i am okay'],\n",
              " ['je suis malade', 'i am sick'],\n",
              " ['je suis sur', 'i am sure'],\n",
              " ['je suis certain', 'i am sure'],\n",
              " ['je suis faible', 'i am weak'],\n",
              " ['je suis flic', 'i m a cop'],\n",
              " ['je suis un homme', 'i m a man'],\n",
              " ['je suis seule', 'i m alone'],\n",
              " ['je suis seul', 'i m alone'],\n",
              " ['je suis arme', 'i m armed'],\n",
              " ['je suis armee', 'i m armed'],\n",
              " ['je suis reveille', 'i m awake'],\n",
              " ['je suis aveugle', 'i m blind'],\n",
              " ['je suis fauche', 'i m broke'],\n",
              " ['je suis fou', 'i m crazy'],\n",
              " ['je suis folle', 'i m crazy'],\n",
              " ['je suis gueri', 'i m cured'],\n",
              " ['je suis guerie', 'i m cured'],\n",
              " ['je suis saoul', 'i m drunk'],\n",
              " ['je suis soul', 'i m drunk'],\n",
              " ['je suis ivre', 'i m drunk'],\n",
              " ['je me meurs', 'i m dying'],\n",
              " ['je suis en avance', 'i m early'],\n",
              " ['je suis en premier', 'i m first'],\n",
              " ['je suis difficile', 'i m fussy'],\n",
              " ['je suis tatillon', 'i m fussy'],\n",
              " ['je suis tatillonne', 'i m fussy'],\n",
              " ['je pars maintenant', 'i m going'],\n",
              " ['je me tire', 'i m going'],\n",
              " ['j y vais', 'i m going'],\n",
              " ['je pars', 'i m going']]"
            ]
          },
          "metadata": {},
          "execution_count": 11
        }
      ]
    },
    {
      "cell_type": "code",
      "source": [],
      "metadata": {
        "id": "Up4cEQx2fPR4"
      },
      "execution_count": null,
      "outputs": []
    }
  ],
  "metadata": {
    "colab": {
      "provenance": [],
      "authorship_tag": "ABX9TyPFOLJdLsOratXOc8VhPKN9",
      "include_colab_link": true
    },
    "kernelspec": {
      "display_name": "Python 3",
      "name": "python3"
    },
    "language_info": {
      "name": "python"
    }
  },
  "nbformat": 4,
  "nbformat_minor": 0
}